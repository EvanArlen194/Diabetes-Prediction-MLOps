{
 "cells": [
  {
   "cell_type": "code",
   "execution_count": 39,
   "metadata": {},
   "outputs": [],
   "source": [
    "import pandas as pd\n",
    "import requests\n",
    "import json\n",
    "import base64\n",
    "import tensorflow as tf"
   ]
  },
  {
   "cell_type": "code",
   "execution_count": 51,
   "metadata": {},
   "outputs": [
    {
     "name": "stdout",
     "output_type": "stream",
     "text": [
      "Result: Diabetes\n"
     ]
    }
   ],
   "source": [
    "def load_data(file_path: str) -> pd.DataFrame:\n",
    "    \"\"\"Reads the CSV dataset and returns it as a DataFrame.\"\"\"\n",
    "    return pd.read_csv(file_path)\n",
    "\n",
    "\n",
    "def extract_input_features(data: pd.DataFrame, row_index: int) -> dict:\n",
    "    \"\"\"Extracts the input features from a specific row in the DataFrame.\"\"\"\n",
    "    return data.iloc[row_index, :8].to_dict()\n",
    "\n",
    "\n",
    "def convert_to_tf_example(inputs: dict) -> str:\n",
    "    \"\"\"Converts the input dictionary into a tf.train.Example format for model consumption.\"\"\"\n",
    "    feature_spec = {}\n",
    "\n",
    "    for key, value in inputs.items():\n",
    "        if isinstance(value, float):\n",
    "            feature_spec[key] = tf.train.Feature(float_list=tf.train.FloatList(value=[value]))\n",
    "        elif isinstance(value, int):\n",
    "            feature_spec[key] = tf.train.Feature(int64_list=tf.train.Int64List(value=[value]))\n",
    "        elif isinstance(value, str):\n",
    "            feature_spec[key] = tf.train.Feature(bytes_list=tf.train.BytesList(value=[value.encode()]))\n",
    "\n",
    "    example = tf.train.Example(features=tf.train.Features(feature=feature_spec)).SerializeToString()\n",
    "    return base64.b64encode(example).decode()\n",
    "\n",
    "\n",
    "def prepare_prediction_request(inputs: dict) -> str:\n",
    "    \"\"\"Prepares the JSON request data to be sent to the prediction endpoint.\"\"\"\n",
    "    example_b64 = convert_to_tf_example(inputs)\n",
    "    request_payload = {\n",
    "        \"signature_name\": \"serving_default\",\n",
    "        \"instances\": [{\"examples\": {\"b64\": example_b64}}]\n",
    "    }\n",
    "    return json.dumps(request_payload)\n",
    "\n",
    "\n",
    "def get_prediction(endpoint: str, json_data: str) -> str:\n",
    "    \"\"\"Sends a request to the endpoint and returns the prediction result.\"\"\"\n",
    "    response = requests.post(endpoint, data=json_data)\n",
    "    \n",
    "    if response.status_code != 200:\n",
    "        return \"Error: Request failed with status code {}\".format(response.status_code)\n",
    "    \n",
    "    prediction = response.json().get(\"predictions\")\n",
    "    if prediction:\n",
    "        prediction_value = prediction[0][0]\n",
    "        return \"Diabetes\" if prediction_value >= 0.5 else \"No diabetes\"\n",
    "    return \"Error: No predictions found in response.\"\n",
    "\n",
    "\n",
    "def main():\n",
    "    data_file = 'data/diabetes_prediction_dataset.csv'\n",
    "    row_index = 53\n",
    "    endpoint = \"https://diabetes-ops-production.up.railway.app/v1/models/diabetes-classification-model:predict\"\n",
    "\n",
    "    data = load_data(data_file)\n",
    "    inputs = extract_input_features(data, row_index)\n",
    "    json_data = prepare_prediction_request(inputs)\n",
    "    result = get_prediction(endpoint, json_data)\n",
    "    print('Result:', result)\n",
    "\n",
    "\n",
    "if __name__ == \"__main__\":\n",
    "    main()\n"
   ]
  }
 ],
 "metadata": {
  "kernelspec": {
   "display_name": "diabetes-churn",
   "language": "python",
   "name": "python3"
  },
  "language_info": {
   "codemirror_mode": {
    "name": "ipython",
    "version": 3
   },
   "file_extension": ".py",
   "mimetype": "text/x-python",
   "name": "python",
   "nbconvert_exporter": "python",
   "pygments_lexer": "ipython3",
   "version": "3.9.15"
  }
 },
 "nbformat": 4,
 "nbformat_minor": 2
}
